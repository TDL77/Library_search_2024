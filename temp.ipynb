{
 "cells": [
  {
   "cell_type": "code",
   "execution_count": 2,
   "metadata": {},
   "outputs": [],
   "source": [
    "import os\n",
    "import json\n",
    "import re\n",
    "import mmap\n",
    "import pickle\n",
    "from typing import List, Tuple, Dict\n",
    "from functools import cache\n",
    "from pathlib import Path\n",
    "from dataclasses import dataclass, field\n",
    "from sklearn.metrics.pairwise import cosine_similarity\n",
    "from datetime import datetime\n",
    "from loguru import logger\n",
    "from diskcache import Cache\n",
    "\n",
    "from langchain_community.retrievers import BM25Retriever\n",
    "from langchain.retrievers.ensemble import EnsembleRetriever\n",
    "from langchain_huggingface import HuggingFaceEmbeddings\n",
    "from langchain_community.vectorstores import FAISS\n",
    "from langchain_ollama import ChatOllama\n",
    "from langchain.schema import HumanMessage, Document\n",
    "from langchain.text_splitter import RecursiveCharacterTextSplitter\n",
    "from langchain_community.document_loaders import PyPDFLoader\n",
    "\n",
    "from bert_score import score\n",
    "import torch\n",
    "import multiprocessing\n"
   ]
  },
  {
   "cell_type": "markdown",
   "metadata": {},
   "source": [
    "---\n",
    "# Подгружаю модель"
   ]
  },
  {
   "cell_type": "code",
   "execution_count": 1,
   "metadata": {},
   "outputs": [
    {
     "name": "stderr",
     "output_type": "stream",
     "text": [
      "\u001b[32m2024-11-10 10:30:20.417\u001b[0m | \u001b[1mINFO    \u001b[0m | \u001b[36mmain\u001b[0m:\u001b[36mget_optimal_threads\u001b[0m:\u001b[36m64\u001b[0m - \u001b[1mDetected 20 CPU cores\u001b[0m\n",
      "\u001b[32m2024-11-10 10:30:20.417\u001b[0m | \u001b[1mINFO    \u001b[0m | \u001b[36mmain\u001b[0m:\u001b[36m__post_init__\u001b[0m:\u001b[36m86\u001b[0m - \u001b[1mUsing device: cpu\u001b[0m\n",
      "\u001b[32m2024-11-10 10:30:20.418\u001b[0m | \u001b[1mINFO    \u001b[0m | \u001b[36mmain\u001b[0m:\u001b[36m__post_init__\u001b[0m:\u001b[36m87\u001b[0m - \u001b[1mUsing 20 threads\u001b[0m\n",
      "\u001b[32m2024-11-10 10:30:20.418\u001b[0m | \u001b[1mINFO    \u001b[0m | \u001b[36mmain\u001b[0m:\u001b[36minitialize\u001b[0m:\u001b[36m205\u001b[0m - \u001b[1mInitializing ModelManager\u001b[0m\n",
      "\u001b[32m2024-11-10 10:30:25.318\u001b[0m | \u001b[1mINFO    \u001b[0m | \u001b[36mmain\u001b[0m:\u001b[36minitialize\u001b[0m:\u001b[36m216\u001b[0m - \u001b[1mLoading existing database\u001b[0m\n",
      "\u001b[32m2024-11-10 10:30:25.336\u001b[0m | \u001b[1mINFO    \u001b[0m | \u001b[36mmain\u001b[0m:\u001b[36minitialize_retrievers\u001b[0m:\u001b[36m223\u001b[0m - \u001b[1mInitializing retrievers\u001b[0m\n",
      "\u001b[32m2024-11-10 10:30:25.342\u001b[0m | \u001b[1mINFO    \u001b[0m | \u001b[36mmain\u001b[0m:\u001b[36minitialize_retrievers\u001b[0m:\u001b[36m236\u001b[0m - \u001b[1mSuccessfully initialized all retrievers\u001b[0m\n"
     ]
    }
   ],
   "source": [
    "from main import Config, RAGSystem\n",
    "\n",
    "config = Config()\n",
    "rag_system = RAGSystem(config)"
   ]
  },
  {
   "cell_type": "markdown",
   "metadata": {},
   "source": [
    "---\n",
    "# Подгружаю тестовые датасет"
   ]
  },
  {
   "cell_type": "code",
   "execution_count": 4,
   "metadata": {},
   "outputs": [
    {
     "name": "stdout",
     "output_type": "stream",
     "text": [
      "(188, 4)\n"
     ]
    },
    {
     "data": {
      "text/html": [
       "<div>\n",
       "<style scoped>\n",
       "    .dataframe tbody tr th:only-of-type {\n",
       "        vertical-align: middle;\n",
       "    }\n",
       "\n",
       "    .dataframe tbody tr th {\n",
       "        vertical-align: top;\n",
       "    }\n",
       "\n",
       "    .dataframe thead th {\n",
       "        text-align: right;\n",
       "    }\n",
       "</style>\n",
       "<table border=\"1\" class=\"dataframe\">\n",
       "  <thead>\n",
       "    <tr style=\"text-align: right;\">\n",
       "      <th></th>\n",
       "      <th>question</th>\n",
       "      <th>filename</th>\n",
       "      <th>slide_number</th>\n",
       "      <th>answer</th>\n",
       "    </tr>\n",
       "  </thead>\n",
       "  <tbody>\n",
       "    <tr>\n",
       "      <th>0</th>\n",
       "      <td>Чем занимается платформа MEDIADESK?</td>\n",
       "      <td>0</td>\n",
       "      <td>0</td>\n",
       "      <td>Технологическая платформа автоматизированной з...</td>\n",
       "    </tr>\n",
       "    <tr>\n",
       "      <th>1</th>\n",
       "      <td>Чем отличаются возможности слабого (NARROW AI)...</td>\n",
       "      <td>0</td>\n",
       "      <td>0</td>\n",
       "      <td>Слабый (NARROW AI) - получение информации и пе...</td>\n",
       "    </tr>\n",
       "    <tr>\n",
       "      <th>2</th>\n",
       "      <td>Сколько процентов рутинных процессов отдаются ...</td>\n",
       "      <td>0</td>\n",
       "      <td>0</td>\n",
       "      <td>0.8</td>\n",
       "    </tr>\n",
       "    <tr>\n",
       "      <th>3</th>\n",
       "      <td>Как усложняться механики кампаний при использо...</td>\n",
       "      <td>0</td>\n",
       "      <td>0</td>\n",
       "      <td>Появление новых возможностей для персонификаци...</td>\n",
       "    </tr>\n",
       "    <tr>\n",
       "      <th>4</th>\n",
       "      <td>На кого чаще всего подписаны пользователи соци...</td>\n",
       "      <td>49</td>\n",
       "      <td>0</td>\n",
       "      <td>FRIENDS, FAMILY, OR OTHER PEOPLE YOU KNOW</td>\n",
       "    </tr>\n",
       "  </tbody>\n",
       "</table>\n",
       "</div>"
      ],
      "text/plain": [
       "                                            question  filename  slide_number  \\\n",
       "0                Чем занимается платформа MEDIADESK?         0             0   \n",
       "1  Чем отличаются возможности слабого (NARROW AI)...         0             0   \n",
       "2  Сколько процентов рутинных процессов отдаются ...         0             0   \n",
       "3  Как усложняться механики кампаний при использо...         0             0   \n",
       "4  На кого чаще всего подписаны пользователи соци...        49             0   \n",
       "\n",
       "                                              answer  \n",
       "0  Технологическая платформа автоматизированной з...  \n",
       "1  Слабый (NARROW AI) - получение информации и пе...  \n",
       "2                                                0.8  \n",
       "3  Появление новых возможностей для персонификаци...  \n",
       "4          FRIENDS, FAMILY, OR OTHER PEOPLE YOU KNOW  "
      ]
     },
     "execution_count": 4,
     "metadata": {},
     "output_type": "execute_result"
    }
   ],
   "source": [
    "import pandas as pd\n",
    "\n",
    "PATH = './data/test_data_mediawise/'\n",
    "\n",
    "sample_submission = pd.read_csv(PATH + 'sample_submission.csv')\n",
    "print(sample_submission.shape)\n",
    "sample_submission.head()"
   ]
  },
  {
   "cell_type": "code",
   "execution_count": 6,
   "metadata": {},
   "outputs": [
    {
     "name": "stdout",
     "output_type": "stream",
     "text": [
      "(188, 1)\n"
     ]
    },
    {
     "data": {
      "text/html": [
       "<div>\n",
       "<style scoped>\n",
       "    .dataframe tbody tr th:only-of-type {\n",
       "        vertical-align: middle;\n",
       "    }\n",
       "\n",
       "    .dataframe tbody tr th {\n",
       "        vertical-align: top;\n",
       "    }\n",
       "\n",
       "    .dataframe thead th {\n",
       "        text-align: right;\n",
       "    }\n",
       "</style>\n",
       "<table border=\"1\" class=\"dataframe\">\n",
       "  <thead>\n",
       "    <tr style=\"text-align: right;\">\n",
       "      <th></th>\n",
       "      <th>question</th>\n",
       "    </tr>\n",
       "  </thead>\n",
       "  <tbody>\n",
       "    <tr>\n",
       "      <th>0</th>\n",
       "      <td>Чем занимается платформа MEDIADESK?</td>\n",
       "    </tr>\n",
       "    <tr>\n",
       "      <th>1</th>\n",
       "      <td>Чем отличаются возможности слабого (NARROW AI)...</td>\n",
       "    </tr>\n",
       "    <tr>\n",
       "      <th>2</th>\n",
       "      <td>Сколько процентов рутинных процессов отдаются ...</td>\n",
       "    </tr>\n",
       "    <tr>\n",
       "      <th>3</th>\n",
       "      <td>Как усложняться механики кампаний при использо...</td>\n",
       "    </tr>\n",
       "    <tr>\n",
       "      <th>4</th>\n",
       "      <td>На кого чаще всего подписаны пользователи соци...</td>\n",
       "    </tr>\n",
       "  </tbody>\n",
       "</table>\n",
       "</div>"
      ],
      "text/plain": [
       "                                            question\n",
       "0                Чем занимается платформа MEDIADESK?\n",
       "1  Чем отличаются возможности слабого (NARROW AI)...\n",
       "2  Сколько процентов рутинных процессов отдаются ...\n",
       "3  Как усложняться механики кампаний при использо...\n",
       "4  На кого чаще всего подписаны пользователи соци..."
      ]
     },
     "execution_count": 6,
     "metadata": {},
     "output_type": "execute_result"
    }
   ],
   "source": [
    "test = pd.read_csv(PATH + 'test.csv')\n",
    "print(test.shape)\n",
    "test.head()"
   ]
  },
  {
   "cell_type": "code",
   "execution_count": null,
   "metadata": {},
   "outputs": [],
   "source": []
  },
  {
   "cell_type": "markdown",
   "metadata": {},
   "source": [
    "---\n",
    "# ответы модели"
   ]
  },
  {
   "cell_type": "code",
   "execution_count": null,
   "metadata": {},
   "outputs": [],
   "source": [
    "# Get context and generate response using RAG system\n",
    "context, docs, confidence, metadata = rag_system.get_relevant_content(user_input)\n",
    "response = rag_system.generate_response(user_input, context)"
   ]
  }
 ],
 "metadata": {
  "kernelspec": {
   "display_name": "myenv",
   "language": "python",
   "name": "python3"
  },
  "language_info": {
   "codemirror_mode": {
    "name": "ipython",
    "version": 3
   },
   "file_extension": ".py",
   "mimetype": "text/x-python",
   "name": "python",
   "nbconvert_exporter": "python",
   "pygments_lexer": "ipython3",
   "version": "3.12.6"
  }
 },
 "nbformat": 4,
 "nbformat_minor": 2
}
